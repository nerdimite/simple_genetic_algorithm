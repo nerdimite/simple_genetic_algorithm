{
 "cells": [
  {
   "cell_type": "markdown",
   "metadata": {},
   "source": [
    "# Simple Genetic Algorithm"
   ]
  },
  {
   "cell_type": "code",
   "execution_count": 1,
   "metadata": {},
   "outputs": [],
   "source": [
    "import numpy as np\n",
    "from scipy.spatial.distance import euclidean\n",
    "import matplotlib.pyplot as plt\n",
    "import random as rnd\n",
    "import pandas as pd"
   ]
  },
  {
   "cell_type": "markdown",
   "metadata": {},
   "source": [
    "## Data (Travelling Salesman Problem)"
   ]
  },
  {
   "cell_type": "code",
   "execution_count": 2,
   "metadata": {},
   "outputs": [
    {
     "data": {
      "text/plain": [
       "{0: (5, 10),\n",
       " 1: (10, 30),\n",
       " 2: (23, 55),\n",
       " 3: (34, 50),\n",
       " 4: (45, 58),\n",
       " 5: (60, 53),\n",
       " 6: (50, 40),\n",
       " 7: (45, 25),\n",
       " 8: (30, 20),\n",
       " 9: (20, 10)}"
      ]
     },
     "execution_count": 2,
     "metadata": {},
     "output_type": "execute_result"
    }
   ],
   "source": [
    "# Define the location of each city\n",
    "X = [5, 10, 23, 34, 45, 60, 50, 45, 30, 20]\n",
    "Y = [10, 30, 55, 50, 58, 53, 40, 25, 20, 10]\n",
    "city_map = dict(enumerate(zip(X,Y))) # A dict mapping of city index to location\n",
    "city_map"
   ]
  },
  {
   "cell_type": "code",
   "execution_count": 3,
   "metadata": {},
   "outputs": [
    {
     "data": {
      "text/plain": [
       "[0, 1, 2, 3, 4, 5, 6, 7, 8, 9]"
      ]
     },
     "execution_count": 3,
     "metadata": {},
     "output_type": "execute_result"
    }
   ],
   "source": [
    "cities = list(city_map.keys()) # all indices of cities\n",
    "cities"
   ]
  },
  {
   "cell_type": "code",
   "execution_count": 4,
   "metadata": {},
   "outputs": [
    {
     "data": {
      "text/plain": [
       "[<matplotlib.lines.Line2D at 0x266454a2438>]"
      ]
     },
     "execution_count": 4,
     "metadata": {},
     "output_type": "execute_result"
    },
    {
     "data": {
      "image/png": "[encoded data removed]",
      "text/plain": [
       "<Figure size 432x288 with 1 Axes>"
      ]
     },
     "metadata": {
      "needs_background": "light"
     },
     "output_type": "display_data"
    }
   ],
   "source": [
    "# Plot the cities\n",
    "plt.scatter(X + [X[0]], Y + [Y[0]])\n",
    "for i, (x, y) in enumerate(zip(X,Y)):\n",
    "    plt.annotate(i, (x, y), (x+0.5, y+0.5))\n",
    "plt.plot(X + [X[0]], Y + [Y[0]])\n",
    "# This is also the ideal solution that we expect the model to learn"
   ]
  },
  {
   "cell_type": "markdown",
   "metadata": {},
   "source": [
    "## Initialization of population"
   ]
  },
  {
   "cell_type": "code",
   "execution_count": 5,
   "metadata": {},
   "outputs": [],
   "source": [
    "def initialize_pop(pop_size=10):\n",
    "    population = []\n",
    "    for i in range(pop_size):\n",
    "        individual = cities.copy()\n",
    "        rnd.shuffle(individual) # shuffle the cities\n",
    "        population.append(individual)\n",
    "    return population"
   ]
  },
  {
   "cell_type": "code",
   "execution_count": 6,
   "metadata": {},
   "outputs": [
    {
     "data": {
      "text/plain": [
       "[[8, 5, 7, 2, 9, 4, 1, 0, 3, 6],\n",
       " [1, 0, 7, 5, 9, 3, 4, 6, 2, 8],\n",
       " [7, 6, 0, 5, 4, 8, 2, 3, 1, 9],\n",
       " [2, 9, 4, 5, 1, 7, 3, 8, 6, 0],\n",
       " [4, 1, 9, 6, 8, 5, 2, 0, 3, 7]]"
      ]
     },
     "execution_count": 6,
     "metadata": {},
     "output_type": "execute_result"
    }
   ],
   "source": [
    "sample_pop = initialize_pop(pop_size=5)\n",
    "sample_pop"
   ]
  },
  {
   "cell_type": "markdown",
   "metadata": {},
   "source": [
    "## Fitness Function"
   ]
  },
  {
   "cell_type": "code",
   "execution_count": 7,
   "metadata": {},
   "outputs": [],
   "source": [
    "def fitness(solution):\n",
    "    '''Returns the total travel distance for a given solution'''\n",
    "    total_distance = 0\n",
    "    \n",
    "    # Calculate the acyclic distance from first city to last city\n",
    "    for i in range(len(solution)-1):\n",
    "        p1 = city_map[solution[i]]\n",
    "        p2 = city_map[solution[i+1]]\n",
    "        total_distance += euclidean(p1, p2)\n",
    "    \n",
    "    # Complete the loop by adding the distance between last city and first city\n",
    "    p1 = city_map[solution[-1]]\n",
    "    p2 = city_map[solution[0]]\n",
    "    total_distance += euclidean(p1, p2)\n",
    "       \n",
    "    return total_distance"
   ]
  },
  {
   "cell_type": "code",
   "execution_count": 8,
   "metadata": {},
   "outputs": [
    {
     "data": {
      "text/plain": [
       "374.78135132186304"
      ]
     },
     "execution_count": 8,
     "metadata": {},
     "output_type": "execute_result"
    }
   ],
   "source": [
    "# fitness of an individual from sample population\n",
    "fitness(sample_pop[0])"
   ]
  },
  {
   "cell_type": "markdown",
   "metadata": {},
   "source": [
    "## Selection"
   ]
  },
  {
   "cell_type": "code",
   "execution_count": 9,
   "metadata": {},
   "outputs": [],
   "source": [
    "def selection(population):\n",
    "    '''Selects an individual randomly based on its fitness value as weights'''\n",
    "    # Calculate the fitness values of every individual in the population\n",
    "    fitness_values = list(map(fitness, population))\n",
    "    # Calculate the relative inverse fitness as our goal is to minimize the total distance\n",
    "    inverse_fitness = [max(fitness_values) - x for x in fitness_values]\n",
    "    # Assign weights to each individual based on the inverse fitness\n",
    "    weights = [x / sum(inverse_fitness) for x in inverse_fitness]\n",
    "    # Select a individual as a parent with weighted randomness\n",
    "    selected_individual = rnd.choices(population, weights)[0]\n",
    "    \n",
    "    return selected_individual"
   ]
  },
  {
   "cell_type": "code",
   "execution_count": 10,
   "metadata": {},
   "outputs": [
    {
     "data": {
      "text/plain": [
       "[1, 0, 7, 5, 9, 3, 4, 6, 2, 8]"
      ]
     },
     "execution_count": 10,
     "metadata": {},
     "output_type": "execute_result"
    }
   ],
   "source": [
    "selection(sample_pop)"
   ]
  },
  {
   "cell_type": "markdown",
   "metadata": {},
   "source": [
    "## Crossover"
   ]
  },
  {
   "cell_type": "code",
   "execution_count": 18,
   "metadata": {},
   "outputs": [],
   "source": [
    "def crossover(parent1, parent2, prnt=False):\n",
    "    '''Returns the child after crossover between the parents'''\n",
    "    # Select cut points\n",
    "    c1 = rnd.randint(0, len(parent1)-2)\n",
    "    c2 = rnd.randint(c1+1, len(parent2)-1)\n",
    "    \n",
    "    # Create an Empty Child DNA\n",
    "    child = [\"X\"] * len(parent1)\n",
    "    \n",
    "    # Set the values between the cut points from parent1 in the child DNA\n",
    "    child[c1:c2+1] = parent1[c1:c2+1]\n",
    "    if prnt: print('Child DNA from Parent 1', child)\n",
    "    \n",
    "    # Fill the remaining values from parent2\n",
    "    for i in range(len(child)):\n",
    "        for j in range(len(parent2)):\n",
    "            # If the parent value is not already in the child then\n",
    "            if parent2[j] not in child:\n",
    "                # Replace with parent value only at places marked X\n",
    "                child[i] = parent2[j] if child[i] == \"X\" else child[i]\n",
    "                # break out of the inner loop and move over to the next position in the DNA\n",
    "                break\n",
    "    \n",
    "    if prnt: print('Child DNA after adding Parent 2', child)\n",
    "    \n",
    "    return child"
   ]
  },
  {
   "cell_type": "code",
   "execution_count": 19,
   "metadata": {},
   "outputs": [],
   "source": [
    "parent1 = [5, 1, 4, 2, 7, 6, 3, 8, 0, 9]\n",
    "parent2 = [5, 2, 9, 0, 7, 8, 1, 4, 6, 3]"
   ]
  },
  {
   "cell_type": "code",
   "execution_count": 21,
   "metadata": {},
   "outputs": [
    {
     "name": "stdout",
     "output_type": "stream",
     "text": [
      "Child DNA from Parent 1 ['X', 'X', 'X', 'X', 'X', 'X', 'X', 8, 0, 9]\n",
      "Child DNA after adding Parent 2 [5, 2, 7, 1, 4, 6, 3, 8, 0, 9]\n"
     ]
    }
   ],
   "source": [
    "child = crossover(parent1, parent2, prnt=True)"
   ]
  },
  {
   "cell_type": "markdown",
   "metadata": {},
   "source": [
    "## Mutation"
   ]
  },
  {
   "cell_type": "code",
   "execution_count": 22,
   "metadata": {},
   "outputs": [],
   "source": [
    "def mutation(individual):\n",
    "    '''Mutates the DNA of a child/individual by swapping the values at two positions'''\n",
    "    # Selecting the index values to swap\n",
    "    pos_1 = rnd.randint(0, len(individual)-1)\n",
    "    pos_2 = rnd.randint(0, len(individual)-1)\n",
    "    # Init the mutant\n",
    "    mutant = individual.copy()\n",
    "    # Swap\n",
    "    mutant[pos_1] = individual[pos_2]\n",
    "    mutant[pos_2] = individual[pos_1]\n",
    "    \n",
    "    return mutant"
   ]
  },
  {
   "cell_type": "code",
   "execution_count": 23,
   "metadata": {},
   "outputs": [
    {
     "name": "stdout",
     "output_type": "stream",
     "text": [
      "Before Mutation [5, 2, 7, 1, 4, 6, 3, 8, 0, 9]\n",
      "After Mutation [5, 2, 3, 1, 4, 6, 7, 8, 0, 9]\n"
     ]
    }
   ],
   "source": [
    "mutated_child = mutation(child)\n",
    "print('Before Mutation', child)\n",
    "print('After Mutation', mutated_child)"
   ]
  },
  {
   "cell_type": "markdown",
   "metadata": {},
   "source": [
    "## Putting Everything Together"
   ]
  },
  {
   "cell_type": "code",
   "execution_count": 24,
   "metadata": {},
   "outputs": [],
   "source": [
    "def optimize_GA(pop_size, max_generations, crossover_prob, mutate_prob):\n",
    "    '''Returns the final solution by optimizing using genetic algorithm'''\n",
    "\n",
    "    # Initialize the Population\n",
    "    population = initialize_pop(pop_size)\n",
    "    global_best = {}\n",
    "\n",
    "    # Start Evolution\n",
    "    for g in range(max_generations):\n",
    "\n",
    "        # Calculate Fitness of the population\n",
    "        population_fitness = list(map(fitness, population))\n",
    "\n",
    "        # Get the individual with the best fitness value (min distance value)\n",
    "        best_fitness = min(population_fitness)\n",
    "        best_fit_index = population_fitness.index(best_fitness)\n",
    "        best_fit_individual = population[best_fit_index]\n",
    "\n",
    "        # Check with global best\n",
    "        if g == 0:\n",
    "            global_best['fitness'] = best_fitness\n",
    "            global_best['dna'] = best_fit_individual\n",
    "        else:\n",
    "            if best_fitness <= global_best['fitness']:\n",
    "                global_best['fitness'] = best_fitness\n",
    "                global_best['dna'] = best_fit_individual\n",
    "#             print('Best Solution at Generation', g)\n",
    "\n",
    "        new_population = []\n",
    "        for i in range(pop_size):\n",
    "            # Select the parents\n",
    "            parent1 = selection(population)\n",
    "            parent2 = selection(population)\n",
    "\n",
    "            # Crossover between the parents with a certain probability\n",
    "            if rnd.random() <= crossover_prob:\n",
    "                child = crossover(parent1, parent2)\n",
    "            else: # or directly clone one of the parents\n",
    "                child = rnd.choice([parent1, parent2])\n",
    "\n",
    "            # Mutation\n",
    "            if rnd.random() <= mutate_prob:\n",
    "                child = mutation(child)\n",
    "\n",
    "            # Add child to new population\n",
    "            new_population.append(child)\n",
    "\n",
    "        population = new_population\n",
    "    return global_best"
   ]
  },
  {
   "cell_type": "code",
   "execution_count": 50,
   "metadata": {},
   "outputs": [],
   "source": [
    "# Hyperparameters\n",
    "pop_size = 10\n",
    "max_generations = 100\n",
    "crossover_prob = 0.95\n",
    "mutate_prob = 0.7"
   ]
  },
  {
   "cell_type": "code",
   "execution_count": 51,
   "metadata": {
    "scrolled": true
   },
   "outputs": [
    {
     "name": "stdout",
     "output_type": "stream",
     "text": [
      "Wall time: 3.01 s\n"
     ]
    },
    {
     "data": {
      "text/plain": [
       "{'fitness': 167.45557021074242, 'dna': [9, 8, 7, 6, 5, 4, 3, 2, 1, 0]}"
      ]
     },
     "execution_count": 51,
     "metadata": {},
     "output_type": "execute_result"
    }
   ],
   "source": [
    "%%time\n",
    "# Start Optimization with Genetic Algorithm\n",
    "solution = optimize_GA(pop_size, max_generations, crossover_prob, mutate_prob)\n",
    "solution"
   ]
  },
  {
   "cell_type": "markdown",
   "metadata": {},
   "source": [
    "## Visualizing the results"
   ]
  },
  {
   "cell_type": "code",
   "execution_count": 52,
   "metadata": {},
   "outputs": [
    {
     "data": {
      "text/plain": [
       "array([[20, 10],\n",
       "       [30, 20],\n",
       "       [45, 25],\n",
       "       [50, 40],\n",
       "       [60, 53],\n",
       "       [45, 58],\n",
       "       [34, 50],\n",
       "       [23, 55],\n",
       "       [10, 30],\n",
       "       [ 5, 10],\n",
       "       [20, 10]])"
      ]
     },
     "execution_count": 52,
     "metadata": {},
     "output_type": "execute_result"
    }
   ],
   "source": [
    "# Get the x,y coordinates of the cities for plotting\n",
    "solution_points = np.array([city_map[x] for x in solution['dna']] + [city_map[solution['dna'][0]]])\n",
    "solution_points"
   ]
  },
  {
   "cell_type": "code",
   "execution_count": 53,
   "metadata": {},
   "outputs": [
    {
     "data": {
      "text/plain": [
       "[<matplotlib.lines.Line2D at 0x266467acdd8>]"
      ]
     },
     "execution_count": 53,
     "metadata": {},
     "output_type": "execute_result"
    },
    {
     "data": {
      "image/png": "[encoded data removed]",
      "text/plain": [
       "<Figure size 432x288 with 1 Axes>"
      ]
     },
     "metadata": {
      "needs_background": "light"
     },
     "output_type": "display_data"
    }
   ],
   "source": [
    "# Plot the Solution\n",
    "X_sol = solution_points[:, 0]\n",
    "Y_sol = solution_points[:, 1]\n",
    "\n",
    "plt.scatter(X_sol, Y_sol)\n",
    "plt.plot(X_sol, Y_sol)"
   ]
  },
  {
   "cell_type": "code",
   "execution_count": null,
   "metadata": {},
   "outputs": [],
   "source": []
  }
 ],
 "metadata": {
  "kernelspec": {
   "display_name": "Python 3",
   "language": "python",
   "name": "python3"
  },
  "language_info": {
   "codemirror_mode": {
    "name": "ipython",
    "version": 3
   },
   "file_extension": ".py",
   "mimetype": "text/x-python",
   "name": "python",
   "nbconvert_exporter": "python",
   "pygments_lexer": "ipython3",
   "version": "3.6.10"
  },
  "widgets": {
   "application/vnd.jupyter.widget-state+json": {
    "state": {},
    "version_major": 2,
    "version_minor": 0
   }
  }
 },
 "nbformat": 4,
 "nbformat_minor": 4
}
